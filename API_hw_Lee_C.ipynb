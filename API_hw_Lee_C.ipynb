{
  "nbformat": 4,
  "nbformat_minor": 0,
  "metadata": {
    "colab": {
      "provenance": []
    },
    "kernelspec": {
      "name": "python3",
      "display_name": "Python 3"
    },
    "language_info": {
      "name": "python"
    }
  },
  "cells": [
    {
      "cell_type": "code",
      "execution_count": 7,
      "metadata": {
        "id": "6lVFSz3dom0X"
      },
      "outputs": [],
      "source": [
        "import json\n",
        "import pandas as pd\n",
        "import requests"
      ]
    },
    {
      "cell_type": "code",
      "source": [
        "stock=input()"
      ],
      "metadata": {
        "id": "hORMTBkbuRKh"
      },
      "execution_count": null,
      "outputs": []
    },
    {
      "cell_type": "code",
      "source": [
        "apikey=\"xd3Isj737B9Tet5gfy6zY6ODpc7DuZvs90rFKs4s\"\n",
        "\n",
        "url = \"https://yfapi.net/v6/finance/quote\"\n",
        "\n",
        "querystring = {\"symbols\":stock}\n",
        "\n",
        "headers = {\n",
        "    'x-api-key': apikey\n",
        "    }\n",
        "\n",
        "response = requests.request(\"GET\", url, headers=headers, params=querystring)\n",
        "\n",
        "print(response.text)"
      ],
      "metadata": {
        "colab": {
          "base_uri": "https://localhost:8080/"
        },
        "id": "NEnsLNNQstLu",
        "outputId": "790ad2d6-78a7-4631-8ed5-665c097386d4"
      },
      "execution_count": 9,
      "outputs": [
        {
          "output_type": "stream",
          "name": "stdout",
          "text": [
            "{\"quoteResponse\":{\"result\":[{\"language\":\"en-US\",\"region\":\"US\",\"quoteType\":\"EQUITY\",\"typeDisp\":\"Equity\",\"quoteSourceName\":\"Nasdaq Real Time Price\",\"triggerable\":true,\"customPriceAlertConfidence\":\"HIGH\",\"currency\":\"USD\",\"marketState\":\"CLOSED\",\"regularMarketChangePercent\":0.09010277,\"regularMarketPrice\":227.725,\"exchange\":\"NMS\",\"shortName\":\"Apple Inc.\",\"longName\":\"Apple Inc.\",\"messageBoardId\":\"finmb_24937\",\"exchangeTimezoneName\":\"America/New_York\",\"exchangeTimezoneShortName\":\"EDT\",\"gmtOffSetMilliseconds\":-14400000,\"market\":\"us_market\",\"esgPopulated\":false,\"hasPrePostMarketData\":true,\"firstTradeDateMilliseconds\":345479400000,\"priceHint\":2,\"postMarketChangePercent\":-0.127307,\"postMarketTime\":1727481596,\"postMarketPrice\":227.5,\"postMarketChange\":-0.289993,\"regularMarketChange\":0.20500183,\"regularMarketTime\":1727467204,\"regularMarketDayHigh\":229.52,\"regularMarketDayRange\":\"227.3 - 229.52\",\"regularMarketDayLow\":227.3,\"regularMarketVolume\":34025967,\"regularMarketPreviousClose\":227.52,\"bid\":227.59,\"ask\":240.09,\"bidSize\":5,\"askSize\":1,\"fullExchangeName\":\"NasdaqGS\",\"financialCurrency\":\"USD\",\"regularMarketOpen\":228.43,\"averageDailyVolume3Month\":54814806,\"averageDailyVolume10Day\":76087390,\"fiftyTwoWeekLowChange\":63.645004,\"fiftyTwoWeekLowChangePercent\":0.38789007,\"fiftyTwoWeekRange\":\"164.08 - 237.23\",\"fiftyTwoWeekHighChange\":-9.50499,\"fiftyTwoWeekHighChangePercent\":-0.04006656,\"fiftyTwoWeekLow\":164.08,\"fiftyTwoWeekHigh\":237.23,\"fiftyTwoWeekChangePercent\":31.102158,\"dividendDate\":1723680000,\"earningsTimestamp\":1722544200,\"earningsTimestampStart\":1730372340,\"earningsTimestampEnd\":1730721600,\"earningsCallTimestampStart\":1722546000,\"earningsCallTimestampEnd\":1722546000,\"isEarningsDateEstimate\":true,\"trailingAnnualDividendRate\":0.97,\"trailingPE\":34.714176,\"dividendRate\":1.0,\"trailingAnnualDividendYield\":0.0042633615,\"dividendYield\":0.44,\"epsTrailingTwelveMonths\":6.56,\"epsForward\":7.48,\"epsCurrentYear\":6.7,\"priceEpsCurrentYear\":33.988808,\"sharesOutstanding\":15204100096,\"bookValue\":4.382,\"fiftyDayAverage\":222.0918,\"fiftyDayAverageChange\":5.633209,\"fiftyDayAverageChangePercent\":0.025364328,\"twoHundredDayAverage\":197.18105,\"twoHundredDayAverageChange\":30.54396,\"twoHundredDayAverageChangePercent\":0.15490313,\"marketCap\":3462353911808,\"forwardPE\":30.444519,\"priceToBook\":51.96828,\"sourceInterval\":15,\"exchangeDataDelayedBy\":0,\"averageAnalystRating\":\"2.0 - Buy\",\"tradeable\":false,\"cryptoTradeable\":false,\"displayName\":\"Apple\",\"symbol\":\"AAPL\"},{\"language\":\"en-US\",\"region\":\"US\",\"quoteType\":\"CRYPTOCURRENCY\",\"typeDisp\":\"Cryptocurrency\",\"quoteSourceName\":\"CoinMarketCap\",\"triggerable\":true,\"customPriceAlertConfidence\":\"HIGH\",\"currency\":\"USD\",\"marketState\":\"REGULAR\",\"regularMarketChangePercent\":0.32549635,\"regularMarketPrice\":65851.195,\"exchange\":\"CCC\",\"shortName\":\"Bitcoin USD\",\"longName\":\"Bitcoin USD\",\"messageBoardId\":\"finmb_BTC_CCC\",\"exchangeTimezoneName\":\"UTC\",\"exchangeTimezoneShortName\":\"UTC\",\"gmtOffSetMilliseconds\":0,\"market\":\"ccc_market\",\"esgPopulated\":false,\"hasPrePostMarketData\":false,\"firstTradeDateMilliseconds\":1410912000000,\"priceHint\":2,\"circulatingSupply\":19760636,\"lastMarket\":\"CoinMarketCap\",\"volume24Hr\":14056884224,\"volumeAllCurrencies\":14056884224,\"fromCurrency\":\"BTC\",\"toCurrency\":\"USD=X\",\"coinMarketCapLink\":\"https://coinmarketcap.com/currencies/bitcoin\",\"regularMarketChange\":213.64844,\"regularMarketTime\":1727645700,\"regularMarketDayHigh\":66069.34,\"regularMarketDayRange\":\"65454.418 - 66069.34\",\"regularMarketDayLow\":65454.418,\"regularMarketVolume\":14056884224,\"regularMarketPreviousClose\":65888.78,\"fullExchangeName\":\"CCC\",\"regularMarketOpen\":65888.78,\"averageDailyVolume3Month\":31220340963,\"averageDailyVolume10Day\":28307196146,\"startDate\":1278979200,\"coinImageUrl\":\"https://s2.coinmarketcap.com/static/img/coins/64x64/1.png\",\"logoUrl\":\"https://s2.coinmarketcap.com/static/img/coins/64x64/1.png\",\"fiftyTwoWeekLowChange\":39292.875,\"fiftyTwoWeekLowChangePercent\":1.479494,\"fiftyTwoWeekRange\":\"26558.32 - 73750.07\",\"fiftyTwoWeekHighChange\":-7898.875,\"fiftyTwoWeekHighChangePercent\":-0.10710329,\"fiftyTwoWeekLow\":26558.32,\"fiftyTwoWeekHigh\":73750.07,\"fiftyTwoWeekChangePercent\":135.44968,\"fiftyDayAverage\":60122.69,\"fiftyDayAverageChange\":5728.504,\"fiftyDayAverageChangePercent\":0.09528023,\"twoHundredDayAverage\":63797.75,\"twoHundredDayAverageChange\":2053.4453,\"twoHundredDayAverageChangePercent\":0.0321868,\"marketCap\":1301261582336,\"sourceInterval\":15,\"exchangeDataDelayedBy\":0,\"tradeable\":false,\"cryptoTradeable\":true,\"symbol\":\"BTC-USD\"},{\"language\":\"en-US\",\"region\":\"US\",\"quoteType\":\"CURRENCY\",\"typeDisp\":\"Currency\",\"quoteSourceName\":\"Delayed Quote\",\"triggerable\":true,\"customPriceAlertConfidence\":\"HIGH\",\"currency\":\"USD\",\"regularMarketChangePercent\":-0.13396904,\"regularMarketPrice\":1.1164453,\"shortName\":\"EUR/USD\",\"longName\":\"EUR/USD\",\"regularMarketChange\":-0.0014976263,\"regularMarketDayHigh\":1.1165699,\"regularMarketDayLow\":1.1158223,\"regularMarketPreviousClose\":1.1179429,\"bid\":1.1164453,\"ask\":1.1158223,\"regularMarketOpen\":1.1164453,\"fiftyTwoWeekLow\":1.0449867,\"fiftyTwoWeekHigh\":1.1212397,\"fiftyDayAverage\":1.1021154,\"twoHundredDayAverage\":1.0873584,\"marketState\":\"CLOSED\",\"exchange\":\"CCY\",\"messageBoardId\":\"finmb_EUR_X\",\"exchangeTimezoneName\":\"Europe/London\",\"exchangeTimezoneShortName\":\"BST\",\"gmtOffSetMilliseconds\":3600000,\"market\":\"ccy_market\",\"esgPopulated\":false,\"hasPrePostMarketData\":false,\"firstTradeDateMilliseconds\":1070236800000,\"priceHint\":4,\"regularMarketTime\":1727645762,\"regularMarketDayRange\":\"1.1158223 - 1.1165699\",\"regularMarketVolume\":0,\"bidSize\":0,\"askSize\":0,\"fullExchangeName\":\"CCY\",\"averageDailyVolume3Month\":0,\"averageDailyVolume10Day\":0,\"fiftyTwoWeekLowChange\":0.003829956,\"fiftyTwoWeekLowChangePercent\":0.0036650763,\"fiftyTwoWeekRange\":\"1.0449867 - 1.1212397\",\"fiftyTwoWeekHighChange\":-0.06125003,\"fiftyTwoWeekHighChangePercent\":-0.054627065,\"fiftyTwoWeekChangePercent\":-5.474907,\"fiftyDayAverageChange\":-0.011646032,\"fiftyDayAverageChangePercent\":-0.010566981,\"twoHundredDayAverageChange\":-0.023959994,\"twoHundredDayAverageChangePercent\":-0.02203505,\"sourceInterval\":15,\"exchangeDataDelayedBy\":0,\"tradeable\":false,\"cryptoTradeable\":false,\"symbol\":\"EURUSD=X\"}],\"error\":null}}\n"
          ]
        }
      ]
    },
    {
      "cell_type": "code",
      "source": [
        "# Function to get stock data from API\n",
        "def get_stock_info(ticker):\n",
        "    try:\n",
        "        querystring = {\"symbols\": ticker}\n",
        "        headers = {'x-api-key': apikey}\n",
        "\n",
        "        # Send the API request\n",
        "        response = requests.request(\"GET\", url, headers=headers, params=querystring)\n",
        "\n",
        "        # Check if the response is successful\n",
        "        if response.status_code == 200:\n",
        "            data = response.json()\n",
        "            quote_data = data.get(\"quoteResponse\", {}).get(\"result\", [])\n",
        "\n",
        "            # Check if stock data is returned\n",
        "            if len(quote_data) == 0:\n",
        "                print(f\"No data found for ticker symbol: {ticker}\")\n",
        "                return None\n",
        "\n",
        "            # Extract stock information\n",
        "            stock = quote_data[0]\n",
        "            ticker_name = stock.get('symbol', 'N/A')\n",
        "            full_name = stock.get('longName', 'N/A')\n",
        "            current_price = stock.get('regularMarketPrice', 'N/A')\n",
        "            target_mean_price = stock.get('targetMeanPrice', 'N/A')\n",
        "            week_high = stock.get('fiftyTwoWeekHigh', 'N/A')\n",
        "            week_low = stock.get('fiftyTwoWeekLow', 'N/A')\n",
        "\n",
        "            # Display stock information\n",
        "            print(f\"\\nTicker: {ticker_name}\")\n",
        "            print(f\"Full Name: {full_name}\")\n",
        "            print(f\"Current Market Price: {current_price}\")\n",
        "            print(f\"Target Mean Price: {target_mean_price}\")\n",
        "            print(f\"52 Week High: {week_high}\")\n",
        "            print(f\"52 Week Low: {week_low}\")\n",
        "\n",
        "            # Return data as a list for further processing\n",
        "            return [ticker_name, full_name, current_price, target_mean_price, week_high, week_low]\n",
        "        else:\n",
        "            print(f\"Error: Failed to retrieve data for {ticker} (Status Code: {response.status_code})\")\n",
        "            return None\n",
        "    except Exception as e:\n",
        "        print(f\"An error occurred: {e}\")\n",
        "        return None\n",
        "\n",
        "# Function to get trending stocks\n",
        "def get_trending_stocks():\n",
        "    trending_stocks = [\"AAPL\", \"TSLA\", \"GOOGL\", \"AMZN\", \"MSFT\"]\n",
        "    print(f\"\\nTrending Stocks: {', '.join(trending_stocks)}\")\n",
        "    return trending_stocks\n",
        "\n",
        "# Main function\n",
        "def main():\n",
        "    # Take user input for a stock ticker\n",
        "    ticker = input(\"Enter a stock ticker symbol: \").upper()\n",
        "\n",
        "    # Get stock information\n",
        "    stock_info = get_stock_info(ticker)\n",
        "\n",
        "    # If valid data is returned, save to CSV\n",
        "    if stock_info:\n",
        "        df = pd.DataFrame([stock_info], columns=['Ticker', 'Full Name', 'Current Price', 'Target Mean Price', '52 Week High', '52 Week Low'])\n",
        "        csv_file = f\"{ticker}_stock_data.csv\"\n",
        "        df.to_csv(csv_file, index=False)\n",
        "        print(f\"\\nStock data saved to {csv_file}\")\n",
        "\n",
        "    # Display trending stocks\n",
        "    trending_stocks = get_trending_stocks()\n",
        "\n",
        "# Run the program\n",
        "if __name__ == \"__main__\":\n",
        "    main()\n"
      ],
      "metadata": {
        "colab": {
          "base_uri": "https://localhost:8080/"
        },
        "id": "Hzx5_1t-vzlU",
        "outputId": "431acc2d-5cd5-4beb-8450-730f2efe398f"
      },
      "execution_count": 13,
      "outputs": [
        {
          "output_type": "stream",
          "name": "stdout",
          "text": [
            "Enter a stock ticker symbol: aapl\n",
            "\n",
            "Ticker: AAPL\n",
            "Full Name: Apple Inc.\n",
            "Current Market Price: 227.725\n",
            "Target Mean Price: N/A\n",
            "52 Week High: 237.23\n",
            "52 Week Low: 164.08\n",
            "\n",
            "Stock data saved to AAPL_stock_data.csv\n",
            "\n",
            "Trending Stocks: AAPL, TSLA, GOOGL, AMZN, MSFT\n"
          ]
        }
      ]
    }
  ]
}