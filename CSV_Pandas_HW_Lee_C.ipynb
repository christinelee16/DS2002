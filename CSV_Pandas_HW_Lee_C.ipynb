{
  "nbformat": 4,
  "nbformat_minor": 0,
  "metadata": {
    "colab": {
      "provenance": []
    },
    "kernelspec": {
      "name": "python3",
      "display_name": "Python 3"
    },
    "language_info": {
      "name": "python"
    }
  },
  "cells": [
    {
      "cell_type": "code",
      "execution_count": 25,
      "metadata": {
        "colab": {
          "base_uri": "https://localhost:8080/",
          "height": 74
        },
        "id": "27h6ODIg7IkN",
        "outputId": "9a253857-9da3-4da6-ff13-27d575cd150a"
      },
      "outputs": [
        {
          "output_type": "display_data",
          "data": {
            "text/plain": [
              "<IPython.core.display.HTML object>"
            ],
            "text/html": [
              "\n",
              "     <input type=\"file\" id=\"files-22c4c3b0-ffcf-41ef-aeb5-47d522068b2f\" name=\"files[]\" multiple disabled\n",
              "        style=\"border:none\" />\n",
              "     <output id=\"result-22c4c3b0-ffcf-41ef-aeb5-47d522068b2f\">\n",
              "      Upload widget is only available when the cell has been executed in the\n",
              "      current browser session. Please rerun this cell to enable.\n",
              "      </output>\n",
              "      <script>// Copyright 2017 Google LLC\n",
              "//\n",
              "// Licensed under the Apache License, Version 2.0 (the \"License\");\n",
              "// you may not use this file except in compliance with the License.\n",
              "// You may obtain a copy of the License at\n",
              "//\n",
              "//      http://www.apache.org/licenses/LICENSE-2.0\n",
              "//\n",
              "// Unless required by applicable law or agreed to in writing, software\n",
              "// distributed under the License is distributed on an \"AS IS\" BASIS,\n",
              "// WITHOUT WARRANTIES OR CONDITIONS OF ANY KIND, either express or implied.\n",
              "// See the License for the specific language governing permissions and\n",
              "// limitations under the License.\n",
              "\n",
              "/**\n",
              " * @fileoverview Helpers for google.colab Python module.\n",
              " */\n",
              "(function(scope) {\n",
              "function span(text, styleAttributes = {}) {\n",
              "  const element = document.createElement('span');\n",
              "  element.textContent = text;\n",
              "  for (const key of Object.keys(styleAttributes)) {\n",
              "    element.style[key] = styleAttributes[key];\n",
              "  }\n",
              "  return element;\n",
              "}\n",
              "\n",
              "// Max number of bytes which will be uploaded at a time.\n",
              "const MAX_PAYLOAD_SIZE = 100 * 1024;\n",
              "\n",
              "function _uploadFiles(inputId, outputId) {\n",
              "  const steps = uploadFilesStep(inputId, outputId);\n",
              "  const outputElement = document.getElementById(outputId);\n",
              "  // Cache steps on the outputElement to make it available for the next call\n",
              "  // to uploadFilesContinue from Python.\n",
              "  outputElement.steps = steps;\n",
              "\n",
              "  return _uploadFilesContinue(outputId);\n",
              "}\n",
              "\n",
              "// This is roughly an async generator (not supported in the browser yet),\n",
              "// where there are multiple asynchronous steps and the Python side is going\n",
              "// to poll for completion of each step.\n",
              "// This uses a Promise to block the python side on completion of each step,\n",
              "// then passes the result of the previous step as the input to the next step.\n",
              "function _uploadFilesContinue(outputId) {\n",
              "  const outputElement = document.getElementById(outputId);\n",
              "  const steps = outputElement.steps;\n",
              "\n",
              "  const next = steps.next(outputElement.lastPromiseValue);\n",
              "  return Promise.resolve(next.value.promise).then((value) => {\n",
              "    // Cache the last promise value to make it available to the next\n",
              "    // step of the generator.\n",
              "    outputElement.lastPromiseValue = value;\n",
              "    return next.value.response;\n",
              "  });\n",
              "}\n",
              "\n",
              "/**\n",
              " * Generator function which is called between each async step of the upload\n",
              " * process.\n",
              " * @param {string} inputId Element ID of the input file picker element.\n",
              " * @param {string} outputId Element ID of the output display.\n",
              " * @return {!Iterable<!Object>} Iterable of next steps.\n",
              " */\n",
              "function* uploadFilesStep(inputId, outputId) {\n",
              "  const inputElement = document.getElementById(inputId);\n",
              "  inputElement.disabled = false;\n",
              "\n",
              "  const outputElement = document.getElementById(outputId);\n",
              "  outputElement.innerHTML = '';\n",
              "\n",
              "  const pickedPromise = new Promise((resolve) => {\n",
              "    inputElement.addEventListener('change', (e) => {\n",
              "      resolve(e.target.files);\n",
              "    });\n",
              "  });\n",
              "\n",
              "  const cancel = document.createElement('button');\n",
              "  inputElement.parentElement.appendChild(cancel);\n",
              "  cancel.textContent = 'Cancel upload';\n",
              "  const cancelPromise = new Promise((resolve) => {\n",
              "    cancel.onclick = () => {\n",
              "      resolve(null);\n",
              "    };\n",
              "  });\n",
              "\n",
              "  // Wait for the user to pick the files.\n",
              "  const files = yield {\n",
              "    promise: Promise.race([pickedPromise, cancelPromise]),\n",
              "    response: {\n",
              "      action: 'starting',\n",
              "    }\n",
              "  };\n",
              "\n",
              "  cancel.remove();\n",
              "\n",
              "  // Disable the input element since further picks are not allowed.\n",
              "  inputElement.disabled = true;\n",
              "\n",
              "  if (!files) {\n",
              "    return {\n",
              "      response: {\n",
              "        action: 'complete',\n",
              "      }\n",
              "    };\n",
              "  }\n",
              "\n",
              "  for (const file of files) {\n",
              "    const li = document.createElement('li');\n",
              "    li.append(span(file.name, {fontWeight: 'bold'}));\n",
              "    li.append(span(\n",
              "        `(${file.type || 'n/a'}) - ${file.size} bytes, ` +\n",
              "        `last modified: ${\n",
              "            file.lastModifiedDate ? file.lastModifiedDate.toLocaleDateString() :\n",
              "                                    'n/a'} - `));\n",
              "    const percent = span('0% done');\n",
              "    li.appendChild(percent);\n",
              "\n",
              "    outputElement.appendChild(li);\n",
              "\n",
              "    const fileDataPromise = new Promise((resolve) => {\n",
              "      const reader = new FileReader();\n",
              "      reader.onload = (e) => {\n",
              "        resolve(e.target.result);\n",
              "      };\n",
              "      reader.readAsArrayBuffer(file);\n",
              "    });\n",
              "    // Wait for the data to be ready.\n",
              "    let fileData = yield {\n",
              "      promise: fileDataPromise,\n",
              "      response: {\n",
              "        action: 'continue',\n",
              "      }\n",
              "    };\n",
              "\n",
              "    // Use a chunked sending to avoid message size limits. See b/62115660.\n",
              "    let position = 0;\n",
              "    do {\n",
              "      const length = Math.min(fileData.byteLength - position, MAX_PAYLOAD_SIZE);\n",
              "      const chunk = new Uint8Array(fileData, position, length);\n",
              "      position += length;\n",
              "\n",
              "      const base64 = btoa(String.fromCharCode.apply(null, chunk));\n",
              "      yield {\n",
              "        response: {\n",
              "          action: 'append',\n",
              "          file: file.name,\n",
              "          data: base64,\n",
              "        },\n",
              "      };\n",
              "\n",
              "      let percentDone = fileData.byteLength === 0 ?\n",
              "          100 :\n",
              "          Math.round((position / fileData.byteLength) * 100);\n",
              "      percent.textContent = `${percentDone}% done`;\n",
              "\n",
              "    } while (position < fileData.byteLength);\n",
              "  }\n",
              "\n",
              "  // All done.\n",
              "  yield {\n",
              "    response: {\n",
              "      action: 'complete',\n",
              "    }\n",
              "  };\n",
              "}\n",
              "\n",
              "scope.google = scope.google || {};\n",
              "scope.google.colab = scope.google.colab || {};\n",
              "scope.google.colab._files = {\n",
              "  _uploadFiles,\n",
              "  _uploadFilesContinue,\n",
              "};\n",
              "})(self);\n",
              "</script> "
            ]
          },
          "metadata": {}
        },
        {
          "output_type": "stream",
          "name": "stdout",
          "text": [
            "Saving acc_players-2324F (1).csv to acc_players-2324F (1) (2).csv\n"
          ]
        }
      ],
      "source": [
        "import pandas as pd\n",
        "import numpy as np\n",
        "from google.colab import files\n",
        "uploaded = files.upload()"
      ]
    },
    {
      "cell_type": "code",
      "source": [
        "# loading CSV into pandas DF and displaying first 5 rows\n",
        "df = pd.read_csv('acc_players-2324F.csv', skiprows=1)\n",
        "df.head()"
      ],
      "metadata": {
        "colab": {
          "base_uri": "https://localhost:8080/",
          "height": 342
        },
        "id": "wjJDK2NK7hqF",
        "outputId": "230248ce-0c21-4b36-be73-8d8b8065da6c"
      },
      "execution_count": 26,
      "outputs": [
        {
          "output_type": "execute_result",
          "data": {
            "text/plain": [
              "   Rk         Player Class Pos          School   G   MP  TRB  AST  STL  ...  \\\n",
              "0   1   Amaree Abram    SO   G    Georgia Tech  10  108   17   11    1  ...   \n",
              "1   2   Sola Adebisi    FR   F   Florida State   7    9    1    1    0  ...   \n",
              "2   3  Prince Aligbe    SO   F  Boston College  35  651  119   21   15  ...   \n",
              "3   4     Abe Atiyeh    SR   G  Boston College   4    6    0    0    0  ...   \n",
              "4   5    Zack Austin    JR   F      Pittsburgh  33  746  137   29   32  ...   \n",
              "\n",
              "   TOV  PF  PTS    FG%    2P%    3P%    FT%   PER   WS  BPM  \n",
              "0    9  10   34  0.262  0.318  0.200  0.615   4.1 -0.1 -6.4  \n",
              "1    1   1    2  0.500  0.500    NaN    NaN   3.5  0.0 -6.7  \n",
              "2   30  51  164  0.435  0.522  0.147  0.620   9.4  0.9 -1.3  \n",
              "3    1   0    3  0.333  0.000  1.000    NaN   1.1  0.0 -8.2  \n",
              "4   13  35  216  0.417  0.563  0.295  0.737  18.0  2.9  7.9  \n",
              "\n",
              "[5 rows x 21 columns]"
            ],
            "text/html": [
              "\n",
              "  <div id=\"df-4437f340-1e5d-4b66-99ef-0a05cf7d9427\" class=\"colab-df-container\">\n",
              "    <div>\n",
              "<style scoped>\n",
              "    .dataframe tbody tr th:only-of-type {\n",
              "        vertical-align: middle;\n",
              "    }\n",
              "\n",
              "    .dataframe tbody tr th {\n",
              "        vertical-align: top;\n",
              "    }\n",
              "\n",
              "    .dataframe thead th {\n",
              "        text-align: right;\n",
              "    }\n",
              "</style>\n",
              "<table border=\"1\" class=\"dataframe\">\n",
              "  <thead>\n",
              "    <tr style=\"text-align: right;\">\n",
              "      <th></th>\n",
              "      <th>Rk</th>\n",
              "      <th>Player</th>\n",
              "      <th>Class</th>\n",
              "      <th>Pos</th>\n",
              "      <th>School</th>\n",
              "      <th>G</th>\n",
              "      <th>MP</th>\n",
              "      <th>TRB</th>\n",
              "      <th>AST</th>\n",
              "      <th>STL</th>\n",
              "      <th>...</th>\n",
              "      <th>TOV</th>\n",
              "      <th>PF</th>\n",
              "      <th>PTS</th>\n",
              "      <th>FG%</th>\n",
              "      <th>2P%</th>\n",
              "      <th>3P%</th>\n",
              "      <th>FT%</th>\n",
              "      <th>PER</th>\n",
              "      <th>WS</th>\n",
              "      <th>BPM</th>\n",
              "    </tr>\n",
              "  </thead>\n",
              "  <tbody>\n",
              "    <tr>\n",
              "      <th>0</th>\n",
              "      <td>1</td>\n",
              "      <td>Amaree Abram</td>\n",
              "      <td>SO</td>\n",
              "      <td>G</td>\n",
              "      <td>Georgia Tech</td>\n",
              "      <td>10</td>\n",
              "      <td>108</td>\n",
              "      <td>17</td>\n",
              "      <td>11</td>\n",
              "      <td>1</td>\n",
              "      <td>...</td>\n",
              "      <td>9</td>\n",
              "      <td>10</td>\n",
              "      <td>34</td>\n",
              "      <td>0.262</td>\n",
              "      <td>0.318</td>\n",
              "      <td>0.200</td>\n",
              "      <td>0.615</td>\n",
              "      <td>4.1</td>\n",
              "      <td>-0.1</td>\n",
              "      <td>-6.4</td>\n",
              "    </tr>\n",
              "    <tr>\n",
              "      <th>1</th>\n",
              "      <td>2</td>\n",
              "      <td>Sola Adebisi</td>\n",
              "      <td>FR</td>\n",
              "      <td>F</td>\n",
              "      <td>Florida State</td>\n",
              "      <td>7</td>\n",
              "      <td>9</td>\n",
              "      <td>1</td>\n",
              "      <td>1</td>\n",
              "      <td>0</td>\n",
              "      <td>...</td>\n",
              "      <td>1</td>\n",
              "      <td>1</td>\n",
              "      <td>2</td>\n",
              "      <td>0.500</td>\n",
              "      <td>0.500</td>\n",
              "      <td>NaN</td>\n",
              "      <td>NaN</td>\n",
              "      <td>3.5</td>\n",
              "      <td>0.0</td>\n",
              "      <td>-6.7</td>\n",
              "    </tr>\n",
              "    <tr>\n",
              "      <th>2</th>\n",
              "      <td>3</td>\n",
              "      <td>Prince Aligbe</td>\n",
              "      <td>SO</td>\n",
              "      <td>F</td>\n",
              "      <td>Boston College</td>\n",
              "      <td>35</td>\n",
              "      <td>651</td>\n",
              "      <td>119</td>\n",
              "      <td>21</td>\n",
              "      <td>15</td>\n",
              "      <td>...</td>\n",
              "      <td>30</td>\n",
              "      <td>51</td>\n",
              "      <td>164</td>\n",
              "      <td>0.435</td>\n",
              "      <td>0.522</td>\n",
              "      <td>0.147</td>\n",
              "      <td>0.620</td>\n",
              "      <td>9.4</td>\n",
              "      <td>0.9</td>\n",
              "      <td>-1.3</td>\n",
              "    </tr>\n",
              "    <tr>\n",
              "      <th>3</th>\n",
              "      <td>4</td>\n",
              "      <td>Abe Atiyeh</td>\n",
              "      <td>SR</td>\n",
              "      <td>G</td>\n",
              "      <td>Boston College</td>\n",
              "      <td>4</td>\n",
              "      <td>6</td>\n",
              "      <td>0</td>\n",
              "      <td>0</td>\n",
              "      <td>0</td>\n",
              "      <td>...</td>\n",
              "      <td>1</td>\n",
              "      <td>0</td>\n",
              "      <td>3</td>\n",
              "      <td>0.333</td>\n",
              "      <td>0.000</td>\n",
              "      <td>1.000</td>\n",
              "      <td>NaN</td>\n",
              "      <td>1.1</td>\n",
              "      <td>0.0</td>\n",
              "      <td>-8.2</td>\n",
              "    </tr>\n",
              "    <tr>\n",
              "      <th>4</th>\n",
              "      <td>5</td>\n",
              "      <td>Zack Austin</td>\n",
              "      <td>JR</td>\n",
              "      <td>F</td>\n",
              "      <td>Pittsburgh</td>\n",
              "      <td>33</td>\n",
              "      <td>746</td>\n",
              "      <td>137</td>\n",
              "      <td>29</td>\n",
              "      <td>32</td>\n",
              "      <td>...</td>\n",
              "      <td>13</td>\n",
              "      <td>35</td>\n",
              "      <td>216</td>\n",
              "      <td>0.417</td>\n",
              "      <td>0.563</td>\n",
              "      <td>0.295</td>\n",
              "      <td>0.737</td>\n",
              "      <td>18.0</td>\n",
              "      <td>2.9</td>\n",
              "      <td>7.9</td>\n",
              "    </tr>\n",
              "  </tbody>\n",
              "</table>\n",
              "<p>5 rows × 21 columns</p>\n",
              "</div>\n",
              "    <div class=\"colab-df-buttons\">\n",
              "\n",
              "  <div class=\"colab-df-container\">\n",
              "    <button class=\"colab-df-convert\" onclick=\"convertToInteractive('df-4437f340-1e5d-4b66-99ef-0a05cf7d9427')\"\n",
              "            title=\"Convert this dataframe to an interactive table.\"\n",
              "            style=\"display:none;\">\n",
              "\n",
              "  <svg xmlns=\"http://www.w3.org/2000/svg\" height=\"24px\" viewBox=\"0 -960 960 960\">\n",
              "    <path d=\"M120-120v-720h720v720H120Zm60-500h600v-160H180v160Zm220 220h160v-160H400v160Zm0 220h160v-160H400v160ZM180-400h160v-160H180v160Zm440 0h160v-160H620v160ZM180-180h160v-160H180v160Zm440 0h160v-160H620v160Z\"/>\n",
              "  </svg>\n",
              "    </button>\n",
              "\n",
              "  <style>\n",
              "    .colab-df-container {\n",
              "      display:flex;\n",
              "      gap: 12px;\n",
              "    }\n",
              "\n",
              "    .colab-df-convert {\n",
              "      background-color: #E8F0FE;\n",
              "      border: none;\n",
              "      border-radius: 50%;\n",
              "      cursor: pointer;\n",
              "      display: none;\n",
              "      fill: #1967D2;\n",
              "      height: 32px;\n",
              "      padding: 0 0 0 0;\n",
              "      width: 32px;\n",
              "    }\n",
              "\n",
              "    .colab-df-convert:hover {\n",
              "      background-color: #E2EBFA;\n",
              "      box-shadow: 0px 1px 2px rgba(60, 64, 67, 0.3), 0px 1px 3px 1px rgba(60, 64, 67, 0.15);\n",
              "      fill: #174EA6;\n",
              "    }\n",
              "\n",
              "    .colab-df-buttons div {\n",
              "      margin-bottom: 4px;\n",
              "    }\n",
              "\n",
              "    [theme=dark] .colab-df-convert {\n",
              "      background-color: #3B4455;\n",
              "      fill: #D2E3FC;\n",
              "    }\n",
              "\n",
              "    [theme=dark] .colab-df-convert:hover {\n",
              "      background-color: #434B5C;\n",
              "      box-shadow: 0px 1px 3px 1px rgba(0, 0, 0, 0.15);\n",
              "      filter: drop-shadow(0px 1px 2px rgba(0, 0, 0, 0.3));\n",
              "      fill: #FFFFFF;\n",
              "    }\n",
              "  </style>\n",
              "\n",
              "    <script>\n",
              "      const buttonEl =\n",
              "        document.querySelector('#df-4437f340-1e5d-4b66-99ef-0a05cf7d9427 button.colab-df-convert');\n",
              "      buttonEl.style.display =\n",
              "        google.colab.kernel.accessAllowed ? 'block' : 'none';\n",
              "\n",
              "      async function convertToInteractive(key) {\n",
              "        const element = document.querySelector('#df-4437f340-1e5d-4b66-99ef-0a05cf7d9427');\n",
              "        const dataTable =\n",
              "          await google.colab.kernel.invokeFunction('convertToInteractive',\n",
              "                                                    [key], {});\n",
              "        if (!dataTable) return;\n",
              "\n",
              "        const docLinkHtml = 'Like what you see? Visit the ' +\n",
              "          '<a target=\"_blank\" href=https://colab.research.google.com/notebooks/data_table.ipynb>data table notebook</a>'\n",
              "          + ' to learn more about interactive tables.';\n",
              "        element.innerHTML = '';\n",
              "        dataTable['output_type'] = 'display_data';\n",
              "        await google.colab.output.renderOutput(dataTable, element);\n",
              "        const docLink = document.createElement('div');\n",
              "        docLink.innerHTML = docLinkHtml;\n",
              "        element.appendChild(docLink);\n",
              "      }\n",
              "    </script>\n",
              "  </div>\n",
              "\n",
              "\n",
              "<div id=\"df-b0c5805d-107c-456f-8f12-d884c4747c32\">\n",
              "  <button class=\"colab-df-quickchart\" onclick=\"quickchart('df-b0c5805d-107c-456f-8f12-d884c4747c32')\"\n",
              "            title=\"Suggest charts\"\n",
              "            style=\"display:none;\">\n",
              "\n",
              "<svg xmlns=\"http://www.w3.org/2000/svg\" height=\"24px\"viewBox=\"0 0 24 24\"\n",
              "     width=\"24px\">\n",
              "    <g>\n",
              "        <path d=\"M19 3H5c-1.1 0-2 .9-2 2v14c0 1.1.9 2 2 2h14c1.1 0 2-.9 2-2V5c0-1.1-.9-2-2-2zM9 17H7v-7h2v7zm4 0h-2V7h2v10zm4 0h-2v-4h2v4z\"/>\n",
              "    </g>\n",
              "</svg>\n",
              "  </button>\n",
              "\n",
              "<style>\n",
              "  .colab-df-quickchart {\n",
              "      --bg-color: #E8F0FE;\n",
              "      --fill-color: #1967D2;\n",
              "      --hover-bg-color: #E2EBFA;\n",
              "      --hover-fill-color: #174EA6;\n",
              "      --disabled-fill-color: #AAA;\n",
              "      --disabled-bg-color: #DDD;\n",
              "  }\n",
              "\n",
              "  [theme=dark] .colab-df-quickchart {\n",
              "      --bg-color: #3B4455;\n",
              "      --fill-color: #D2E3FC;\n",
              "      --hover-bg-color: #434B5C;\n",
              "      --hover-fill-color: #FFFFFF;\n",
              "      --disabled-bg-color: #3B4455;\n",
              "      --disabled-fill-color: #666;\n",
              "  }\n",
              "\n",
              "  .colab-df-quickchart {\n",
              "    background-color: var(--bg-color);\n",
              "    border: none;\n",
              "    border-radius: 50%;\n",
              "    cursor: pointer;\n",
              "    display: none;\n",
              "    fill: var(--fill-color);\n",
              "    height: 32px;\n",
              "    padding: 0;\n",
              "    width: 32px;\n",
              "  }\n",
              "\n",
              "  .colab-df-quickchart:hover {\n",
              "    background-color: var(--hover-bg-color);\n",
              "    box-shadow: 0 1px 2px rgba(60, 64, 67, 0.3), 0 1px 3px 1px rgba(60, 64, 67, 0.15);\n",
              "    fill: var(--button-hover-fill-color);\n",
              "  }\n",
              "\n",
              "  .colab-df-quickchart-complete:disabled,\n",
              "  .colab-df-quickchart-complete:disabled:hover {\n",
              "    background-color: var(--disabled-bg-color);\n",
              "    fill: var(--disabled-fill-color);\n",
              "    box-shadow: none;\n",
              "  }\n",
              "\n",
              "  .colab-df-spinner {\n",
              "    border: 2px solid var(--fill-color);\n",
              "    border-color: transparent;\n",
              "    border-bottom-color: var(--fill-color);\n",
              "    animation:\n",
              "      spin 1s steps(1) infinite;\n",
              "  }\n",
              "\n",
              "  @keyframes spin {\n",
              "    0% {\n",
              "      border-color: transparent;\n",
              "      border-bottom-color: var(--fill-color);\n",
              "      border-left-color: var(--fill-color);\n",
              "    }\n",
              "    20% {\n",
              "      border-color: transparent;\n",
              "      border-left-color: var(--fill-color);\n",
              "      border-top-color: var(--fill-color);\n",
              "    }\n",
              "    30% {\n",
              "      border-color: transparent;\n",
              "      border-left-color: var(--fill-color);\n",
              "      border-top-color: var(--fill-color);\n",
              "      border-right-color: var(--fill-color);\n",
              "    }\n",
              "    40% {\n",
              "      border-color: transparent;\n",
              "      border-right-color: var(--fill-color);\n",
              "      border-top-color: var(--fill-color);\n",
              "    }\n",
              "    60% {\n",
              "      border-color: transparent;\n",
              "      border-right-color: var(--fill-color);\n",
              "    }\n",
              "    80% {\n",
              "      border-color: transparent;\n",
              "      border-right-color: var(--fill-color);\n",
              "      border-bottom-color: var(--fill-color);\n",
              "    }\n",
              "    90% {\n",
              "      border-color: transparent;\n",
              "      border-bottom-color: var(--fill-color);\n",
              "    }\n",
              "  }\n",
              "</style>\n",
              "\n",
              "  <script>\n",
              "    async function quickchart(key) {\n",
              "      const quickchartButtonEl =\n",
              "        document.querySelector('#' + key + ' button');\n",
              "      quickchartButtonEl.disabled = true;  // To prevent multiple clicks.\n",
              "      quickchartButtonEl.classList.add('colab-df-spinner');\n",
              "      try {\n",
              "        const charts = await google.colab.kernel.invokeFunction(\n",
              "            'suggestCharts', [key], {});\n",
              "      } catch (error) {\n",
              "        console.error('Error during call to suggestCharts:', error);\n",
              "      }\n",
              "      quickchartButtonEl.classList.remove('colab-df-spinner');\n",
              "      quickchartButtonEl.classList.add('colab-df-quickchart-complete');\n",
              "    }\n",
              "    (() => {\n",
              "      let quickchartButtonEl =\n",
              "        document.querySelector('#df-b0c5805d-107c-456f-8f12-d884c4747c32 button');\n",
              "      quickchartButtonEl.style.display =\n",
              "        google.colab.kernel.accessAllowed ? 'block' : 'none';\n",
              "    })();\n",
              "  </script>\n",
              "</div>\n",
              "\n",
              "    </div>\n",
              "  </div>\n"
            ],
            "application/vnd.google.colaboratory.intrinsic+json": {
              "type": "dataframe",
              "variable_name": "df"
            }
          },
          "metadata": {},
          "execution_count": 26
        }
      ]
    },
    {
      "cell_type": "code",
      "source": [
        "# Calculating total points scored by all players combined\n",
        "total_points = df['PTS'].sum()\n",
        "print(total_points)"
      ],
      "metadata": {
        "colab": {
          "base_uri": "https://localhost:8080/"
        },
        "id": "y7LbnnbR7qkr",
        "outputId": "e72d294b-89e0-4a5f-8188-4f502c033ebe"
      },
      "execution_count": 27,
      "outputs": [
        {
          "output_type": "stream",
          "name": "stdout",
          "text": [
            "38411\n"
          ]
        }
      ]
    },
    {
      "cell_type": "code",
      "source": [
        "#player with the most minutes played\n",
        "most_minutes = df['MP'].max()\n",
        "most_mins_player = df[df['MP'] == most_minutes]['Player'].iloc[0]\n",
        "print(most_mins_player)"
      ],
      "metadata": {
        "colab": {
          "base_uri": "https://localhost:8080/"
        },
        "id": "GO09uNF--FLt",
        "outputId": "c7cd409e-b722-43d0-a219-18a3e2b4fcc7"
      },
      "execution_count": 37,
      "outputs": [
        {
          "output_type": "stream",
          "name": "stdout",
          "text": [
            "Casey Morsell\n"
          ]
        }
      ]
    },
    {
      "cell_type": "code",
      "source": [
        "# top 5 players in terms of TRB\n",
        "top_5_trb = df.nlargest(5, 'TRB')\n",
        "print(top_5_trb[['Player', 'TRB']])"
      ],
      "metadata": {
        "colab": {
          "base_uri": "https://localhost:8080/"
        },
        "id": "kvgBmZ9tAVLU",
        "outputId": "4037ffbc-e0aa-4c0c-88df-99e65100647d"
      },
      "execution_count": 40,
      "outputs": [
        {
          "output_type": "stream",
          "name": "stdout",
          "text": [
            "              Player  TRB\n",
            "5      Armando Bacot  380\n",
            "178  Ian Schieffelin  340\n",
            "90   Harrison Ingram  327\n",
            "44    Mohamed Diarra  311\n",
            "149    Norchad Omier  309\n"
          ]
        }
      ]
    },
    {
      "cell_type": "code",
      "source": [
        "# create new DF containing players who played > 500 mins\n",
        "filtered_df = df[df['MP']>500]\n",
        "print(filtered_df)"
      ],
      "metadata": {
        "colab": {
          "base_uri": "https://localhost:8080/"
        },
        "id": "IbZObDKyAu46",
        "outputId": "207a55e2-8d50-4256-fb8c-cecbaed627e1"
      },
      "execution_count": 44,
      "outputs": [
        {
          "output_type": "stream",
          "name": "stdout",
          "text": [
            "      Rk            Player Class Pos          School   G    MP  TRB  AST  STL  \\\n",
            "2      3     Prince Aligbe    SO   F  Boston College  35   651  119   21   15   \n",
            "4      5       Zack Austin    JR   F      Pittsburgh  33   746  137   29   32   \n",
            "5      6     Armando Bacot    SR   F  North Carolina  37  1123  380   56   22   \n",
            "7      8     Reece Beekman    SR   G        Virginia  34  1114  124  212   68   \n",
            "9     10        Chris Bell    SO   F        Syracuse  32   865   75   21   18   \n",
            "..   ...               ...   ...  ..             ...  ..   ...  ...  ...  ...   \n",
            "203  204     Jamir Watkins    JR   F   Florida State  33   928  199   91   64   \n",
            "206  207         Tre White    SO   G      Louisville  29   907  170   39   24   \n",
            "207  208  Chauncey Wiggins    SO   F         Clemson  36   639   76   33    6   \n",
            "209  210   Curtis Williams    FR   G      Louisville  32   564   42   20   12   \n",
            "215  216    Jaeden Zackery    JR   G  Boston College  36  1216  119  152   63   \n",
            "\n",
            "     ...  TOV   PF  PTS    FG%    2P%    3P%    FT%   PER   WS   BPM  \n",
            "2    ...   30   51  164  0.435  0.522  0.147  0.620   9.4  0.9  -1.3  \n",
            "4    ...   13   35  216  0.417  0.563  0.295  0.737  18.0  2.9   7.9  \n",
            "5    ...   60  100  538  0.540  0.544  0.400  0.781  24.6  6.1   8.9  \n",
            "7    ...   70   43  486  0.443  0.487  0.310  0.754  23.4  4.9  10.5  \n",
            "9    ...   26   58  384  0.434  0.459  0.420  0.842  14.9  2.2   3.3  \n",
            "..   ...  ...  ...  ...    ...    ...    ...    ...   ...  ...   ...  \n",
            "203  ...   84   92  514  0.457  0.500  0.344  0.795  24.2  3.9   9.1  \n",
            "206  ...   53   66  357  0.456  0.515  0.299  0.752  15.0  1.7   1.8  \n",
            "207  ...   26   46  196  0.442  0.528  0.349  0.714  11.0  1.2   1.9  \n",
            "209  ...   26   24  170  0.317  0.373  0.287  0.714   5.9 -0.2  -3.8  \n",
            "215  ...   71   78  408  0.484  0.511  0.405  0.824  16.4  3.7   3.5  \n",
            "\n",
            "[98 rows x 21 columns]\n"
          ]
        }
      ]
    },
    {
      "cell_type": "code",
      "source": [
        "# find player with highest assists\n",
        "top_assist_player = filtered_df.loc[filtered_df['AST'].idxmax()]['Player']\n",
        "print(top_assist_player)"
      ],
      "metadata": {
        "colab": {
          "base_uri": "https://localhost:8080/"
        },
        "id": "sXB-XacIDdLB",
        "outputId": "8ea0932b-d4c8-4a01-d10a-3f5eb423db75"
      },
      "execution_count": 45,
      "outputs": [
        {
          "output_type": "stream",
          "name": "stdout",
          "text": [
            "Reece Beekman\n"
          ]
        }
      ]
    },
    {
      "cell_type": "code",
      "source": [
        "# players with top 3 assists\n",
        "top_3_ast_leaders = filtered_df.nlargest(3, 'AST')\n",
        "print(top_3_ast_leaders[['Player', 'AST']])"
      ],
      "metadata": {
        "colab": {
          "base_uri": "https://localhost:8080/"
        },
        "id": "l7CEDC5IEHMt",
        "outputId": "837fbf89-902a-4cd7-9b54-5c55c64c9210"
      },
      "execution_count": 51,
      "outputs": [
        {
          "output_type": "stream",
          "name": "stdout",
          "text": [
            "             Player  AST\n",
            "7     Reece Beekman  212\n",
            "215  Jaeden Zackery  152\n",
            "21    Elliot Cadeau  150\n"
          ]
        }
      ]
    },
    {
      "cell_type": "code",
      "source": [
        "print(filtered_df.columns)"
      ],
      "metadata": {
        "colab": {
          "base_uri": "https://localhost:8080/"
        },
        "id": "t4u8HrJDF4ci",
        "outputId": "de45e154-bb39-49e8-ecf1-57494afaaaa1"
      },
      "execution_count": 52,
      "outputs": [
        {
          "output_type": "stream",
          "name": "stdout",
          "text": [
            "Index(['Rk', 'Player', 'Class', 'Pos', 'School', 'G', 'MP', 'TRB', 'AST',\n",
            "       'STL', 'BLK', 'TOV', 'PF', 'PTS', 'FG%', '2P%', '3P%', 'FT%', 'PER',\n",
            "       'WS', 'BPM'],\n",
            "      dtype='object')\n"
          ]
        }
      ]
    },
    {
      "cell_type": "code",
      "source": [
        "# top 3 players regarding shot blocks\n",
        "top_3_blockers = filtered_df.nlargest(3, 'BLK')\n",
        "print(top_3_blockers[['Player', 'BLK']])"
      ],
      "metadata": {
        "colab": {
          "base_uri": "https://localhost:8080/"
        },
        "id": "-YI3pP3_EZ9P",
        "outputId": "32dd2e8a-db12-4e9d-f525-1ab0f6e98f5d"
      },
      "execution_count": 54,
      "outputs": [
        {
          "output_type": "stream",
          "name": "stdout",
          "text": [
            "            Player  BLK\n",
            "51       Ryan Dunn   77\n",
            "157   Quinten Post   61\n",
            "5    Armando Bacot   56\n"
          ]
        }
      ]
    },
    {
      "cell_type": "code",
      "source": [
        "# total points scored by each school\n",
        "school_points = df.groupby('School')['PTS'].sum()\n",
        "print(school_points)"
      ],
      "metadata": {
        "colab": {
          "base_uri": "https://localhost:8080/"
        },
        "id": "GPb_V_REGQpA",
        "outputId": "9842542b-abcf-43eb-9f05-dcd8f05372be"
      },
      "execution_count": 61,
      "outputs": [
        {
          "output_type": "stream",
          "name": "stdout",
          "text": [
            "School\n",
            "Boston College    2667\n",
            "Clemson           2785\n",
            "Duke              2830\n",
            "Florida State     2526\n",
            "Georgia Tech      2272\n",
            "Louisville        2304\n",
            "Miami (FL)        2424\n",
            "NC State          3101\n",
            "North Carolina    3032\n",
            "Notre Dame        2113\n",
            "Pittsburgh        2495\n",
            "Syracuse          2442\n",
            "Virginia          2140\n",
            "Virginia Tech     2547\n",
            "Wake Forest       2733\n",
            "Name: PTS, dtype: int64\n"
          ]
        }
      ]
    },
    {
      "cell_type": "code",
      "source": [
        "# total assists for each team\n",
        "team_assists = df.groupby('School')['AST'].sum()\n",
        "print(team_assists)"
      ],
      "metadata": {
        "colab": {
          "base_uri": "https://localhost:8080/"
        },
        "id": "tJjny4r6H9nr",
        "outputId": "aef1494c-cf85-4d65-86ab-a0420e9e861f"
      },
      "execution_count": 59,
      "outputs": [
        {
          "output_type": "stream",
          "name": "stdout",
          "text": [
            "School\n",
            "Boston College    509\n",
            "Clemson           533\n",
            "Duke              551\n",
            "Florida State     406\n",
            "Georgia Tech      425\n",
            "Louisville        356\n",
            "Miami (FL)        454\n",
            "NC State          536\n",
            "North Carolina    536\n",
            "Notre Dame        335\n",
            "Pittsburgh        452\n",
            "Syracuse          442\n",
            "Virginia          509\n",
            "Virginia Tech     514\n",
            "Wake Forest       429\n",
            "Name: AST, dtype: int64\n"
          ]
        }
      ]
    },
    {
      "cell_type": "code",
      "source": [
        "# top three scoring schools\n",
        "top_3_schools = school_points.sort_values(ascending=False).head(3)\n",
        "print(top_3_schools)"
      ],
      "metadata": {
        "colab": {
          "base_uri": "https://localhost:8080/"
        },
        "id": "dRQ2tgNBIcOD",
        "outputId": "b1a18932-90f0-41b9-ec76-e8a7741378ba"
      },
      "execution_count": 71,
      "outputs": [
        {
          "output_type": "stream",
          "name": "stdout",
          "text": [
            "School\n",
            "NC State          3101\n",
            "North Carolina    3032\n",
            "Duke              2830\n",
            "Name: PTS, dtype: int64\n"
          ]
        }
      ]
    },
    {
      "cell_type": "markdown",
      "source": [
        "**What did you learn about working with CSV files and pandas DataFrames in this assignment?**\n",
        "\n",
        "I have had previous experience with pandas and csv files in my introduction to programming class. However, this assignment provided a good refresher. I re-learned how to read a pandas DataFrame and got a refresher on pandas terminology. Pandas is  pretty intuitive language, and I found it easy to understand. These skills can be used in future data analysis projects by helping me organize and manipulate data to find information I need.\n",
        "\n",
        "**What was the most challenging aspect of this assignment, and how did you\n",
        "overcome it?**\n",
        "\n",
        "The biggest difficulty I encountered was using the right pandas actions to extrapolate the data I needed. With the minimal experience I have with various languages, it can be confusing to remember which languages use which terms to perform similar actions. I also had trouble with understanding how to perform specific analysis efficiently. For example, I had to search through StackOverflow and other sources to remember that .sum() can be added to the end of a query. I found that looking through resources online helped, especially discussions amongst other people coding, however, this is a tedious process at times.\n",
        "\n",
        "**How do you think the insights gained from analyzing ACC basketball statistics\n",
        "could be applied to other real-world datasets?**\n",
        "\n",
        "The insights gained from this assignment could be applied to many other real-world datasets. As a public policy major, I can see how using CSVs and pandas could help me scour large datasets containing information about healthcare or criminal justice. Additionally, pandas could be helpful in business settings that require analyzing large amounts of data. For example, in the assignment we did on the ice cream stores, pandas could be used to find which flavors are the most popular, or which stores in a chain are making the most profits."
      ],
      "metadata": {
        "id": "5GVn3A8wJpt3"
      }
    }
  ]
}